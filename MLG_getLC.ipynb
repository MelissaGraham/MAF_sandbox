{
 "cells": [
  {
   "cell_type": "code",
   "execution_count": 1,
   "metadata": {},
   "outputs": [],
   "source": [
    "# Read in the Nugent templates from your own computer\n",
    "# Reformat for TransientAsciiMetric\n",
    "# ugrizy = UBVRIJ  that's DEFINITELY WRONG but fix later\n",
    "import numpy as np"
   ]
  },
  {
   "cell_type": "code",
   "execution_count": 6,
   "metadata": {},
   "outputs": [
    {
     "name": "stdout",
     "output_type": "stream",
     "text": [
      "u 1\n",
      "0.02 1.69\n",
      "g 2\n",
      "0.02 1.8\n",
      "r 3\n",
      "0.03 0.39\n",
      "i 4\n",
      "0.02 0.76\n",
      "z 5\n",
      "0.02 0.83\n",
      "y 6\n",
      "0.06 -1.22\n"
     ]
    }
   ],
   "source": [
    "fout = open('/home/docmaf/maf_local/sandbox/nugent_sn1a.dat','w')\n",
    "\n",
    "filts = ['u','g','r','i','z','y']\n",
    "cols  = [1,2,3,4,5,6]\n",
    "phase = np.loadtxt('/home/docmaf/maf_local/sandbox/sn1a_lc.v1.2.dat', dtype='float',usecols={0}) + 19.0\n",
    "\n",
    "for filt,col in zip(filts,cols):\n",
    "    print(filt,col)\n",
    "    mags  = np.loadtxt('/home/docmaf/maf_local/sandbox/sn1a_lc.v1.2.dat', dtype='float',usecols={col})\n",
    "    for p,ph in enumerate(phase):\n",
    "        if mags[p] < 10.0:\n",
    "            fout.write('%5.3f %5.3f %s \\n' % (phase[p],mags[p],filt))\n",
    "    slope = (mags[-1]-mags[-2])/(phase[-1]-phase[-2])\n",
    "    bint  = mags[-1] - slope*phase[-1]\n",
    "    print(slope,bint)\n",
    "    del mags\n",
    "    days  = np.arange( phase[-1],365.0,1.0)\n",
    "    mags  = slope*days + bint\n",
    "    for d,day in enumerate(days):\n",
    "        fout.write('%5.3f %5.3f %s \\n' % (days[d],mags[d],filt))\n",
    "    del days,slope,bint,mags\n",
    "\n",
    "fout.close()"
   ]
  },
  {
   "cell_type": "code",
   "execution_count": null,
   "metadata": {},
   "outputs": [],
   "source": []
  }
 ],
 "metadata": {
  "kernelspec": {
   "display_name": "Python 3",
   "language": "python",
   "name": "python3"
  },
  "language_info": {
   "codemirror_mode": {
    "name": "ipython",
    "version": 3
   },
   "file_extension": ".py",
   "mimetype": "text/x-python",
   "name": "python",
   "nbconvert_exporter": "python",
   "pygments_lexer": "ipython3",
   "version": "3.6.2"
  }
 },
 "nbformat": 4,
 "nbformat_minor": 2
}
